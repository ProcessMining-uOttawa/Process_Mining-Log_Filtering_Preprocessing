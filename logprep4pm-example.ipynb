{
  "cells": [
    {
      "cell_type": "markdown",
      "id": "M3XorYrwOSqI",
      "metadata": {
        "id": "M3XorYrwOSqI"
      },
      "source": [
        "# Introduction\n",
        "\n"
      ]
    },
    {
      "cell_type": "markdown",
      "id": "UemqOwGsSyep",
      "metadata": {
        "id": "UemqOwGsSyep"
      },
      "source": [
        "\n",
        "**Using Process Mining with Pre- and Post-Intervention Analysis to Improve Digital Service Delivery: A Governmental Case Study**\n",
        "\n",
        "Authors: Trottier, J., Van Woensel, W., Wang, X., Mallur, K., El-Gharib, N., Amyot, D.\n",
        "\n",
        "\n",
        "This notebook illustrates the use of the [logprep4pm](https://github.com/ProcessMining-uOttawa/logprep4pm) for pre-processing event logs as a companion to the above-titled case study. The [logprep4pm](https://github.com/ProcessMining-uOttawa/logprep4pm) library provides a set of convencience functions for preparing and filtering an event log for process discovery.\n",
        "\n",
        "The notebook also contains some code samples that do not use the library but nevertheless implement common pre-processing tasks.\n",
        "\n",
        "---\n",
        "\n",
        "\n",
        "\n",
        "**Notice:** This notebook applies only to Phase I of our case study. Due to confidentiality, the actual dataset has not been shared. Redactions have been made to conceal sensitive information on the process that was examined.\n",
        "\n",
        "\n",
        "\n",
        "---\n",
        "\n"
      ]
    },
    {
      "cell_type": "markdown",
      "id": "ms6d7gGHVkYK",
      "metadata": {
        "id": "ms6d7gGHVkYK"
      },
      "source": [
        "\n",
        "**The following is a high-level breakdown of the notebook / sections:**\n",
        "\n",
        "* Ingestion\n",
        "    * Sanity Check\n",
        "* Exploratory Data Analysis\n",
        "    * Inspection\n",
        "    * Outlier Review\n",
        "    * Duplicate Event Review & Removal\n",
        "* Enhancement & Refinement\n",
        "    * Replace resource names with role types\n",
        "    * Anonymize case IDs for privacy protection\n",
        "    * Rename event classes\n",
        "    * Timezone conversion\n",
        "    * Filter date range\n",
        "* Export event log\n",
        "\n",
        "\n",
        "\n"
      ]
    },
    {
      "cell_type": "markdown",
      "id": "waLjYGGvOY02",
      "metadata": {
        "id": "waLjYGGvOY02"
      },
      "source": [
        "## Import dependencies"
      ]
    },
    {
      "cell_type": "code",
      "execution_count": null,
      "id": "ygoWz6M6OcFJ",
      "metadata": {
        "collapsed": true,
        "id": "ygoWz6M6OcFJ"
      },
      "outputs": [],
      "source": [
        "# NOTE uncomment for Google Colab\n",
        "# !pip install skimpy pandas\n",
        "\n",
        "# Import essential modules for preprocessing\n",
        "import pandas as pd\n",
        "import re\n",
        "import csv\n",
        "\n",
        "# The logprep4pm module can be downloaded here: https://github.com/ProcessMining-uOttawa/logprep4pm\n",
        "import DataPreprocessing as prep4pm"
      ]
    },
    {
      "cell_type": "markdown",
      "id": "QnCkAibh_EDJ",
      "metadata": {
        "id": "QnCkAibh_EDJ"
      },
      "source": [
        "# Ingestion\n",
        "Open CSV of event log, specify the column names for id, event and timestamp, along with timestamp format."
      ]
    },
    {
      "cell_type": "code",
      "execution_count": null,
      "id": "glGwSjLfNr1K",
      "metadata": {
        "id": "glGwSjLfNr1K"
      },
      "outputs": [],
      "source": [
        "# Link to function description: https://processmining-uottawa.github.io/logprep4pm/#/./APIs/readCSV\n",
        "\n",
        "# (update column names to suit CSV dump)\n",
        "event_log = prep4pm.readCSV('event_log_sample.csv','case_id','activity','timestamp',\"%Y-%m-%d %H:%M:%S.%f\")"
      ]
    },
    {
      "cell_type": "markdown",
      "id": "rwCHXABFNvSg",
      "metadata": {
        "id": "rwCHXABFNvSg"
      },
      "source": [
        "  ## Sanity Check\n",
        "  Ensure import was done correctly."
      ]
    },
    {
      "cell_type": "code",
      "execution_count": null,
      "id": "f75f90dc-38d1-42e5-9b60-b89067794bb3",
      "metadata": {
        "colab": {
          "base_uri": "https://localhost:8080/"
        },
        "id": "f75f90dc-38d1-42e5-9b60-b89067794bb3",
        "outputId": "5223481b-dae5-44e4-d694-5d4e912133cd"
      },
      "outputs": [],
      "source": [
        "event_log.shape"
      ]
    },
    {
      "cell_type": "code",
      "execution_count": null,
      "id": "hJiQpdpu55b8",
      "metadata": {
        "colab": {
          "base_uri": "https://localhost:8080/",
          "height": 363
        },
        "id": "hJiQpdpu55b8",
        "outputId": "e8d0f750-758d-4ca9-a6b7-92d3cd741887"
      },
      "outputs": [],
      "source": [
        "# Lets visually inspect the first ten rows to make sure the data is formatted properly.\n",
        "# Ensure there are no obvious import issues, especially with CSVs where structure can break easily.\n",
        "\n",
        "event_log.head(10)"
      ]
    },
    {
      "cell_type": "markdown",
      "id": "2MNUoFKLAVTm",
      "metadata": {
        "id": "2MNUoFKLAVTm"
      },
      "source": [
        "# Exploratory Data Analysis"
      ]
    },
    {
      "cell_type": "markdown",
      "id": "wda1OJTZOk6x",
      "metadata": {
        "id": "wda1OJTZOk6x"
      },
      "source": [
        "## Inspection\n",
        "Understand general properties of event log and get get high-level event log statistics. E.g. how many cases, events, event classes, end/start events; look at event classes and their frequency.\n"
      ]
    },
    {
      "cell_type": "code",
      "execution_count": null,
      "id": "4550a15a-f5e9-4d69-941f-aa76a3a3d81c",
      "metadata": {
        "colab": {
          "base_uri": "https://localhost:8080/",
          "height": 81
        },
        "id": "4550a15a-f5e9-4d69-941f-aa76a3a3d81c",
        "outputId": "7ff35f88-c2f9-4b47-e222-454d615bf028"
      },
      "outputs": [],
      "source": [
        "# Link to function description: https://processmining-uottawa.github.io/logprep4pm/#/./APIs/getEventLogStats\n",
        "prep4pm.getEventLogStats(event_log)"
      ]
    },
    {
      "cell_type": "markdown",
      "id": "NCOpGFYCO7IH",
      "metadata": {
        "id": "NCOpGFYCO7IH"
      },
      "source": [
        "## Outlier Review\n",
        "Examine long-running cases, review outliers, incomplete drifted/traces that are anomalies - decide whether to retain or discard."
      ]
    },
    {
      "cell_type": "code",
      "execution_count": null,
      "id": "bd1e4ca6-9263-4f80-8b5a-730f524974ce",
      "metadata": {
        "colab": {
          "base_uri": "https://localhost:8080/",
          "height": 586
        },
        "id": "bd1e4ca6-9263-4f80-8b5a-730f524974ce",
        "outputId": "fb79275b-67e1-45bb-c11a-91c7ea4d36d6"
      },
      "outputs": [],
      "source": [
        "# Look at the event classes and their frequency in the dataset\n",
        "# We might spot a few low-count event classes that are anomalies or exceptional cases\n",
        "event_log['event'].value_counts()"
      ]
    },
    {
      "cell_type": "code",
      "execution_count": null,
      "id": "40909918-709c-4a6a-95dd-b4f9028e9cef",
      "metadata": {
        "colab": {
          "base_uri": "https://localhost:8080/",
          "height": 677
        },
        "id": "40909918-709c-4a6a-95dd-b4f9028e9cef",
        "outputId": "44a1055a-7b35-4245-a882-de7194e57d95"
      },
      "outputs": [],
      "source": [
        "# Examine the longest running cases and investigate these traces to determine how to handle these outliers\n",
        "# Link to function description: https://processmining-uottawa.github.io/logprep4pm/#/./APIs/getTraceDurations\n",
        "prep4pm.getTraceDurations(event_log)[0:20]"
      ]
    },
    {
      "cell_type": "code",
      "execution_count": null,
      "id": "946717be-25d3-4f48-a507-c7c44ee1db52",
      "metadata": {
        "colab": {
          "base_uri": "https://localhost:8080/"
        },
        "id": "946717be-25d3-4f48-a507-c7c44ee1db52",
        "outputId": "e88b3aec-01ca-464e-f7b3-c88c1a50b478"
      },
      "outputs": [],
      "source": [
        "# Remove the traces that contain top secret and secret clearances\n",
        "# (these would have events like 'checkCSIS', 'checkPolygraph')\n",
        "delete_event_traces = ['checkCSIS', 'checkPolygraph']\n",
        "\n",
        "# Link to function description: https://processmining-uottawa.github.io/logprep4pm/#/./APIs/deleteAllEvents\n",
        "event_log2 = prep4pm.deleteAllEvents(event_log,delete_event_traces)\n",
        "\n",
        "# Check log stats before & after removing the traces:\n",
        "print(\"before:\")\n",
        "print(prep4pm.getEventLogStats(event_log))\n",
        "print(\"after:\")\n",
        "print(prep4pm.getEventLogStats(event_log2))"
      ]
    },
    {
      "cell_type": "code",
      "execution_count": null,
      "id": "21cb13c8",
      "metadata": {
        "colab": {
          "base_uri": "https://localhost:8080/",
          "height": 523
        },
        "id": "21cb13c8",
        "outputId": "d691c286-ba92-4a6a-c8f1-5c458a370ead"
      },
      "outputs": [],
      "source": [
        "# Let's have another look at the event classes and their frequency\n",
        "event_log2['event'].value_counts()"
      ]
    },
    {
      "cell_type": "code",
      "execution_count": null,
      "id": "f131ee93-fbce-42c9-977b-c0a7a7cfe79a",
      "metadata": {
        "colab": {
          "base_uri": "https://localhost:8080/"
        },
        "id": "f131ee93-fbce-42c9-977b-c0a7a7cfe79a",
        "outputId": "f2d9a5ae-5111-4982-94f7-4c0003b67192"
      },
      "outputs": [],
      "source": [
        "# Delete low-frequency event classes that are exceptional cases or remnants of a drifted process\n",
        "# Link to function description: https://processmining-uottawa.github.io/logprep4pm/#/./APIs/removeEventsLowFrequency\n",
        "event_log3 = prep4pm.removeEventsLowFrequency(event_log2, 25)\n",
        "\n",
        "# Check log stats before & after removing the traces:\n",
        "print(\"before:\")\n",
        "print(prep4pm.getEventLogStats(event_log2))\n",
        "print(\"after:\")\n",
        "print(prep4pm.getEventLogStats(event_log3))"
      ]
    },
    {
      "cell_type": "markdown",
      "id": "U_YQ90mKP1iF",
      "metadata": {
        "id": "U_YQ90mKP1iF"
      },
      "source": [
        "## Duplicate Event Review & Removal\n",
        "Lets examine duplicate events to see how they impact the event log."
      ]
    },
    {
      "cell_type": "code",
      "execution_count": null,
      "id": "bef1893e-6b7e-4b6c-9e27-623cd7758ba9",
      "metadata": {
        "colab": {
          "base_uri": "https://localhost:8080/",
          "height": 424
        },
        "id": "bef1893e-6b7e-4b6c-9e27-623cd7758ba9",
        "outputId": "71c2b661-2ec1-4728-d612-184d5c38f0ca"
      },
      "outputs": [],
      "source": [
        "# List duplicate events (i.e., events with same activity occurring right after one another)\n",
        "# Link to function description: https://processmining-uottawa.github.io/logprep4pm/#/./APIs/eventIsRepeated\n",
        "event_log_repeated = prep4pm.eventIsRepeated(event_log3)\n",
        "\n",
        "# Let's check the repeated ones:\n",
        "event_log_duplicates = event_log_repeated.loc[event_log_repeated['isRepeated']]\n",
        "event_log_duplicates"
      ]
    },
    {
      "cell_type": "code",
      "execution_count": null,
      "id": "1abc287d-732a-432a-a34f-97d6f817d5c2",
      "metadata": {
        "colab": {
          "base_uri": "https://localhost:8080/"
        },
        "id": "1abc287d-732a-432a-a34f-97d6f817d5c2",
        "outputId": "abaadb8d-8e30-44aa-b988-c16c74bf1dff"
      },
      "outputs": [],
      "source": [
        "# Lets count how many duplicate events there are in order to determine the impact on the dataset\n",
        "event_log_duplicates.shape[0]"
      ]
    },
    {
      "cell_type": "code",
      "execution_count": null,
      "id": "a1a1dd56-b33a-49fa-b366-d8794e584d46",
      "metadata": {
        "colab": {
          "base_uri": "https://localhost:8080/",
          "height": 241
        },
        "id": "a1a1dd56-b33a-49fa-b366-d8794e584d46",
        "outputId": "480d74ee-d3fe-4367-cf3d-d431ffec0a84"
      },
      "outputs": [],
      "source": [
        "# How many duplicates per event class?\n",
        "event_log_duplicates['event'].value_counts()"
      ]
    },
    {
      "cell_type": "code",
      "execution_count": null,
      "id": "e701130f-6538-4863-8eb6-fa3b25714a44",
      "metadata": {
        "colab": {
          "base_uri": "https://localhost:8080/"
        },
        "id": "e701130f-6538-4863-8eb6-fa3b25714a44",
        "outputId": "d63891f3-399b-4acd-ca93-c55d3c716a4b"
      },
      "outputs": [],
      "source": [
        "# Delete duplicate events, i.e., remove duplicates but only within a given time delta (3 minutes)\n",
        "# Link to function description: https://processmining-uottawa.github.io/logprep4pm/#/./APIs/deleteDuplicateEventRowsDelta\n",
        "event_log_dedup = prep4pm.deleteDuplicateEventRowsDelta(event_log3, 3 * 60 * 1000)\n",
        "\n",
        "print(\"before:\", event_log3.shape[0])\n",
        "print(prep4pm.getEventLogStats(event_log3))\n",
        "print(\"after:\", event_log_dedup.shape[0])\n",
        "print(prep4pm.getEventLogStats(event_log_dedup))"
      ]
    },
    {
      "cell_type": "code",
      "execution_count": null,
      "id": "025c079a-4451-4917-bbe7-3af01df343cb",
      "metadata": {
        "colab": {
          "base_uri": "https://localhost:8080/"
        },
        "id": "025c079a-4451-4917-bbe7-3af01df343cb",
        "outputId": "13d090a8-78ff-47c1-ab87-c508440ed9c2"
      },
      "outputs": [],
      "source": [
        "# Lets look at how many duplicate events remain\n",
        "# Perhaps we can optimize this a little bit further\n",
        "# Link to function description: https://processmining-uottawa.github.io/logprep4pm/#/./APIs/eventIsRepeated\n",
        "event_log_repeated2 = prep4pm.eventIsRepeated(event_log_dedup)\n",
        "\n",
        "# Filter out which events are repeated and count them\n",
        "event_log_duplicates2 = event_log_repeated2.loc[event_log_repeated2['isRepeated']]\n",
        "event_log_duplicates2.shape[0]"
      ]
    },
    {
      "cell_type": "code",
      "execution_count": null,
      "id": "3ed333a0-e3a3-4cbb-907f-f30051080d79",
      "metadata": {
        "colab": {
          "base_uri": "https://localhost:8080/",
          "height": 241
        },
        "id": "3ed333a0-e3a3-4cbb-907f-f30051080d79",
        "outputId": "6d034d99-238d-4f92-cf19-dc2b13634169"
      },
      "outputs": [],
      "source": [
        "# How many duplicates per event class?\n",
        "event_log_duplicates2['event'].value_counts()"
      ]
    },
    {
      "cell_type": "code",
      "execution_count": null,
      "id": "33a07c64-166f-4a8b-bc66-c13a8b6e150c",
      "metadata": {
        "colab": {
          "base_uri": "https://localhost:8080/",
          "height": 677
        },
        "id": "33a07c64-166f-4a8b-bc66-c13a8b6e150c",
        "outputId": "5c4c9ab8-f2ce-435a-c78d-1aa7edc3a62c"
      },
      "outputs": [],
      "source": [
        "# Lets eyeball them to see if we should adjust our delta cutoff further\n",
        "event_log_duplicates2.head(20)"
      ]
    },
    {
      "cell_type": "code",
      "execution_count": null,
      "id": "b0d8e216-f655-4414-be8f-44171c30c681",
      "metadata": {
        "colab": {
          "base_uri": "https://localhost:8080/",
          "height": 206
        },
        "id": "b0d8e216-f655-4414-be8f-44171c30c681",
        "outputId": "2a143b90-9ce9-4a86-f439-ebe1f23f6153"
      },
      "outputs": [],
      "source": [
        "# Compare between old and new counts:\n",
        "compare_dupes = pd.concat([event_log_duplicates2['event'].value_counts(),event_log_duplicates['event'].value_counts()],axis=1,keys=[\"new\",\"old\"])\n",
        "compare_dupes"
      ]
    },
    {
      "cell_type": "code",
      "execution_count": null,
      "id": "2feff26e",
      "metadata": {
        "id": "2feff26e"
      },
      "outputs": [],
      "source": [
        "# Let's keep working with the de-duplicated event log\n",
        "event_log = event_log_dedup"
      ]
    },
    {
      "cell_type": "markdown",
      "id": "hA_kFKiEAhwf",
      "metadata": {
        "id": "hA_kFKiEAhwf"
      },
      "source": [
        "# Enhancement & Refinement"
      ]
    },
    {
      "cell_type": "markdown",
      "id": "9wWHQGwrRFxr",
      "metadata": {
        "id": "9wWHQGwrRFxr"
      },
      "source": [
        "## Replace resource names with role types"
      ]
    },
    {
      "cell_type": "code",
      "execution_count": null,
      "id": "ec74f7d4-8039-4ae3-93ec-a45115077511",
      "metadata": {
        "colab": {
          "base_uri": "https://localhost:8080/",
          "height": 896
        },
        "id": "ec74f7d4-8039-4ae3-93ec-a45115077511",
        "outputId": "35f27d68-0e16-41b5-cdc6-885f253acf5f"
      },
      "outputs": [],
      "source": [
        "# Change resources names to their rank / role / level\n",
        "event_log.loc[event_log['resource'] == 'john@smith.com','resource'] = \"[Role in Organization]\"\n",
        "\n",
        "# Checkout our dummy result:\n",
        "event_log.loc[event_log['resource']==\"[Role in Organization]\",]"
      ]
    },
    {
      "cell_type": "markdown",
      "id": "18th_tgfRNJ0",
      "metadata": {
        "id": "18th_tgfRNJ0"
      },
      "source": [
        "## Anonymize case IDs for Privacy Protection"
      ]
    },
    {
      "cell_type": "code",
      "execution_count": null,
      "id": "13dd27eb-1db0-4053-8def-5b912b9f5709",
      "metadata": {
        "colab": {
          "base_uri": "https://localhost:8080/",
          "height": 677
        },
        "id": "13dd27eb-1db0-4053-8def-5b912b9f5709",
        "outputId": "386a49df-dc56-4f35-f873-c2ae0e61db01"
      },
      "outputs": [],
      "source": [
        "# Anonymize case IDs for privacy protection\n",
        "# Link to function description: https://processmining-uottawa.github.io/logprep4pm/#/./APIs/anonymizeCaseIDs\n",
        "event_log_export = prep4pm.anonymizeCaseIDs(event_log)\n",
        "event_log_export.head(20)"
      ]
    },
    {
      "cell_type": "markdown",
      "id": "_fwi4iJWSK05",
      "metadata": {
        "id": "_fwi4iJWSK05"
      },
      "source": [
        "## Rename event classes"
      ]
    },
    {
      "cell_type": "code",
      "execution_count": null,
      "id": "88606fbf-9dfa-4186-918a-84bc31fc49ea",
      "metadata": {
        "colab": {
          "base_uri": "https://localhost:8080/",
          "height": 896
        },
        "id": "88606fbf-9dfa-4186-918a-84bc31fc49ea",
        "outputId": "e3a65155-42d9-4bac-869b-17002085dfe6"
      },
      "outputs": [],
      "source": [
        "# Obfuscate event names to conceal the nature of the process\n",
        "\n",
        "# This is a map of original to new event names with a JSON object:\n",
        "# { Original Event Name in Database : New User Friendly Name }\n",
        "\n",
        "replace_names = {\n",
        "        'mgrRequestScreening'  : '[User Friendly Name]',\n",
        "}\n",
        "\n",
        "# Link to function description: https://processmining-uottawa.github.io/logprep4pm/#/./APIs/renameEventNames\n",
        "event_log_export2 = prep4pm.renameEventNames(event_log_export,replace_names)\n",
        "\n",
        "# Checkout our dummy result:\n",
        "event_log_export2.loc[event_log_export2['event']=='[User Friendly Name]']"
      ]
    },
    {
      "cell_type": "markdown",
      "id": "e86OKlhtSVrK",
      "metadata": {
        "id": "e86OKlhtSVrK"
      },
      "source": [
        "## Timezone conversion"
      ]
    },
    {
      "cell_type": "code",
      "execution_count": null,
      "id": "9dd7a12a-d782-43ca-819b-d181600599a3",
      "metadata": {
        "colab": {
          "base_uri": "https://localhost:8080/",
          "height": 677
        },
        "id": "9dd7a12a-d782-43ca-819b-d181600599a3",
        "outputId": "c107753f-bfbb-4bc9-94b8-80ae4e793903"
      },
      "outputs": [],
      "source": [
        "event_log_export3 = event_log_export2.copy()\n",
        "\n",
        "# Convert timestamps from UTC to EST\n",
        "event_log_export3['timestamp'] = pd.DatetimeIndex(event_log_export2['timestamp']).tz_localize(\"UTC\").tz_convert(\"America/New_York\")\n",
        "\n",
        "event_log_export3.head(20)"
      ]
    },
    {
      "cell_type": "code",
      "execution_count": null,
      "id": "62e00aee-d4ce-4aa7-9fec-ea5cc2b0df3e",
      "metadata": {
        "colab": {
          "base_uri": "https://localhost:8080/",
          "height": 677
        },
        "id": "62e00aee-d4ce-4aa7-9fec-ea5cc2b0df3e",
        "outputId": "d0dc5862-fea1-4339-8528-786cbaa152ac"
      },
      "outputs": [],
      "source": [
        "# Remove localization for date range filter function\n",
        "event_log_export3['timestamp'] = pd.DatetimeIndex(event_log_export3['timestamp']).tz_localize(None)\n",
        "event_log_export3.head(20)"
      ]
    },
    {
      "cell_type": "markdown",
      "id": "UYwKy8VDScLM",
      "metadata": {
        "id": "UYwKy8VDScLM"
      },
      "source": [
        "## Filter Date Range\n",
        "We could not include data prior to a specific date (using \"March 7th\" as an example) as the system had just launched and the process model was unstable."
      ]
    },
    {
      "cell_type": "code",
      "execution_count": null,
      "id": "02e100c8-fcd8-4d14-b9a8-2dd081cb7bfd",
      "metadata": {
        "colab": {
          "base_uri": "https://localhost:8080/"
        },
        "id": "02e100c8-fcd8-4d14-b9a8-2dd081cb7bfd",
        "outputId": "d2f20799-2b0f-4c46-ab86-737776766f1b"
      },
      "outputs": [],
      "source": [
        "# Link to function description: https://processmining-uottawa.github.io/logprep4pm/#/./APIs/filterTracesWithinDateRange\n",
        "event_log_export4 = prep4pm.filterTracesWithinDateRange(event_log_export3,'2023-03-07 00:00:00.0','2023-10-26 23:59:59.0','%Y-%m-%d %H:%M:%S.%f')\n",
        "\n",
        "print(\"before:\")\n",
        "print(prep4pm.getEventLogStats(event_log_export3))\n",
        "print(\"after:\")\n",
        "print(prep4pm.getEventLogStats(event_log_export4))"
      ]
    },
    {
      "cell_type": "markdown",
      "id": "x7mCzCVIAnvA",
      "metadata": {
        "id": "x7mCzCVIAnvA"
      },
      "source": [
        "# Export Event Log"
      ]
    },
    {
      "cell_type": "code",
      "execution_count": null,
      "id": "3a168a5b-282a-402c-bae5-d1133b14e36b",
      "metadata": {
        "id": "3a168a5b-282a-402c-bae5-d1133b14e36b"
      },
      "outputs": [],
      "source": [
        "# Output event log to CSV\n",
        "# To-do: create export functions to export to XLS and XES\n",
        "event_log_export4.to_csv('event_log_output.csv')"
      ]
    }
  ],
  "metadata": {
    "colab": {
      "provenance": [],
      "toc_visible": true
    },
    "kernelspec": {
      "display_name": "Python 3 (ipykernel)",
      "language": "python",
      "name": "python3"
    },
    "language_info": {
      "codemirror_mode": {
        "name": "ipython",
        "version": 3
      },
      "file_extension": ".py",
      "mimetype": "text/x-python",
      "name": "python",
      "nbconvert_exporter": "python",
      "pygments_lexer": "ipython3",
      "version": "3.11.5"
    }
  },
  "nbformat": 4,
  "nbformat_minor": 5
}
